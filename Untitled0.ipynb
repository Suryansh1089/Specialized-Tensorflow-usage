{
  "nbformat": 4,
  "nbformat_minor": 0,
  "metadata": {
    "colab": {
      "name": "Untitled0.ipynb",
      "provenance": []
    },
    "kernelspec": {
      "name": "python3",
      "display_name": "Python 3"
    },
    "language_info": {
      "name": "python"
    }
  },
  "cells": [
    {
      "cell_type": "code",
      "metadata": {
        "id": "6ZaAiXlpECxQ"
      },
      "source": [
        "import nltk\n",
        "nltk.download('punkt')\n",
        "from gensim.models import Word2Vec\n",
        "from nltk.corpus import stopwords\n",
        "\n",
        "import re\n",
        "\n",
        "paragraph = \"\"\"I have three visions for India. In 3000 years of our history, people from all over \n",
        "               the world have come and invaded us, captured our lands, conquered our minds. \n",
        "               From Alexander onwards, the Greeks, the Turks, the Moguls, the Portuguese, the British,\n",
        "               the French, the Dutch, all of them came and looted us, took over what was ours. \n",
        "               Yet we have not done this to any other nation. We have not conquered anyone. \n",
        "               We have not grabbed their land, their culture, \n",
        "               their history and tried to enforce our way of life on them. \n",
        "               Why? Because we respect the freedom of others.That is why my \n",
        "               first vision is that of freedom. I believe that India got its first vision of \n",
        "               this in 1857, when we started the War of Independence. It is this freedom that\n",
        "               we must protect and nurture and build on. If we are not free, no one will respect us.\n",
        "               My second vision for India’s development. For fifty years we have been a developing nation.\n",
        "               It is time we see ourselves as a developed nation. We are among the top 5 nations of the world\n",
        "               in terms of GDP. We have a 10 percent growth rate in most areas. Our poverty levels are falling.\n",
        "               Our achievements are being globally recognised today. Yet we lack the self-confidence to\n",
        "               see ourselves as a developed nation, self-reliant and self-assured. Isn’t this incorrect?\n",
        "               I have a third vision. India must stand up to the world. Because I believe that unless India \n",
        "               stands up to the world, no one will respect us. Only strength respects strength. We must be \n",
        "               strong not only as a military power but also as an economic power. Both must go hand-in-hand. \n",
        "               My good fortune was to have worked with three great minds. Dr. Vikram Sarabhai of the Dept. of \n",
        "               space, Professor Satish Dhawan, who succeeded him and Dr. Brahm Prakash, father of nuclear material.\n",
        "               I was lucky to have worked with all three of them closely and consider this the great opportunity of my life. \n",
        "               I see four milestones in my career\"\"\""
      ],
      "execution_count": null,
      "outputs": []
    },
    {
      "cell_type": "code",
      "metadata": {
        "id": "3_554nSbFvXc"
      },
      "source": [
        "text = re.sub(r'\\[[0-9]*\\]',' ',paragraph)\n",
        "text = re.sub(r'\\s+',' ',text)\n",
        "text = text.lower()\n",
        "text = re.sub(r'\\d',' ',text)\n",
        "text = re.sub(r'\\s+',' ',text)\n"
      ],
      "execution_count": null,
      "outputs": []
    },
    {
      "cell_type": "code",
      "metadata": {
        "colab": {
          "base_uri": "https://localhost:8080/",
          "height": 120
        },
        "id": "yU-6NDkKF6-J",
        "outputId": "9504d874-f3d0-4ddd-dd63-d605a21ee1c4"
      },
      "source": [
        "text"
      ],
      "execution_count": null,
      "outputs": [
        {
          "output_type": "execute_result",
          "data": {
            "application/vnd.google.colaboratory.intrinsic+json": {
              "type": "string"
            },
            "text/plain": [
              "'i have three visions for india. in years of our history, people from all over the world have come and invaded us, captured our lands, conquered our minds. from alexander onwards, the greeks, the turks, the moguls, the portuguese, the british, the french, the dutch, all of them came and looted us, took over what was ours. yet we have not done this to any other nation. we have not conquered anyone. we have not grabbed their land, their culture, their history and tried to enforce our way of life on them. why? because we respect the freedom of others.that is why my first vision is that of freedom. i believe that india got its first vision of this in , when we started the war of independence. it is this freedom that we must protect and nurture and build on. if we are not free, no one will respect us. my second vision for india’s development. for fifty years we have been a developing nation. it is time we see ourselves as a developed nation. we are among the top nations of the world in terms of gdp. we have a percent growth rate in most areas. our poverty levels are falling. our achievements are being globally recognised today. yet we lack the self-confidence to see ourselves as a developed nation, self-reliant and self-assured. isn’t this incorrect? i have a third vision. india must stand up to the world. because i believe that unless india stands up to the world, no one will respect us. only strength respects strength. we must be strong not only as a military power but also as an economic power. both must go hand-in-hand. my good fortune was to have worked with three great minds. dr. vikram sarabhai of the dept. of space, professor satish dhawan, who succeeded him and dr. brahm prakash, father of nuclear material. i was lucky to have worked with all three of them closely and consider this the great opportunity of my life. i see four milestones in my career'"
            ]
          },
          "metadata": {
            "tags": []
          },
          "execution_count": 3
        }
      ]
    },
    {
      "cell_type": "code",
      "metadata": {
        "colab": {
          "base_uri": "https://localhost:8080/"
        },
        "id": "GWhpxTCuHptN",
        "outputId": "7315f5ad-299f-4cf7-e650-6d5152063057"
      },
      "source": [
        "nltk.download('punkt')\n",
        "sentences=nltk.sent_tokenize(text)\n"
      ],
      "execution_count": null,
      "outputs": [
        {
          "output_type": "stream",
          "text": [
            "[nltk_data] Downloading package punkt to /root/nltk_data...\n",
            "[nltk_data]   Unzipping tokenizers/punkt.zip.\n"
          ],
          "name": "stdout"
        }
      ]
    },
    {
      "cell_type": "code",
      "metadata": {
        "colab": {
          "base_uri": "https://localhost:8080/"
        },
        "id": "vnN50o7hIV7M",
        "outputId": "0a5abf06-612d-4aa0-fe1f-c5d24c66a841"
      },
      "source": [
        "sentences"
      ],
      "execution_count": null,
      "outputs": [
        {
          "output_type": "execute_result",
          "data": {
            "text/plain": [
              "['i have three visions for india.',\n",
              " 'in years of our history, people from all over the world have come and invaded us, captured our lands, conquered our minds.',\n",
              " 'from alexander onwards, the greeks, the turks, the moguls, the portuguese, the british, the french, the dutch, all of them came and looted us, took over what was ours.',\n",
              " 'yet we have not done this to any other nation.',\n",
              " 'we have not conquered anyone.',\n",
              " 'we have not grabbed their land, their culture, their history and tried to enforce our way of life on them.',\n",
              " 'why?',\n",
              " 'because we respect the freedom of others.that is why my first vision is that of freedom.',\n",
              " 'i believe that india got its first vision of this in , when we started the war of independence.',\n",
              " 'it is this freedom that we must protect and nurture and build on.',\n",
              " 'if we are not free, no one will respect us.',\n",
              " 'my second vision for india’s development.',\n",
              " 'for fifty years we have been a developing nation.',\n",
              " 'it is time we see ourselves as a developed nation.',\n",
              " 'we are among the top nations of the world in terms of gdp.',\n",
              " 'we have a percent growth rate in most areas.',\n",
              " 'our poverty levels are falling.',\n",
              " 'our achievements are being globally recognised today.',\n",
              " 'yet we lack the self-confidence to see ourselves as a developed nation, self-reliant and self-assured.',\n",
              " 'isn’t this incorrect?',\n",
              " 'i have a third vision.',\n",
              " 'india must stand up to the world.',\n",
              " 'because i believe that unless india stands up to the world, no one will respect us.',\n",
              " 'only strength respects strength.',\n",
              " 'we must be strong not only as a military power but also as an economic power.',\n",
              " 'both must go hand-in-hand.',\n",
              " 'my good fortune was to have worked with three great minds.',\n",
              " 'dr. vikram sarabhai of the dept.',\n",
              " 'of space, professor satish dhawan, who succeeded him and dr. brahm prakash, father of nuclear material.',\n",
              " 'i was lucky to have worked with all three of them closely and consider this the great opportunity of my life.',\n",
              " 'i see four milestones in my career']"
            ]
          },
          "metadata": {
            "tags": []
          },
          "execution_count": 18
        }
      ]
    },
    {
      "cell_type": "code",
      "metadata": {
        "colab": {
          "base_uri": "https://localhost:8080/"
        },
        "id": "XgH4oKC6IY_k",
        "outputId": "d27f48f9-dd09-44e1-cacc-755c44461e62"
      },
      "source": [
        "nltk.download('stopwords')\n",
        "\n",
        "\n",
        "for i in range(len(sentences)):\n",
        "    sentences[i] = [word for word in sentences[i] if word not in stopwords.words('english')]"
      ],
      "execution_count": null,
      "outputs": [
        {
          "output_type": "stream",
          "text": [
            "[nltk_data] Downloading package stopwords to /root/nltk_data...\n",
            "[nltk_data]   Package stopwords is already up-to-date!\n"
          ],
          "name": "stdout"
        }
      ]
    },
    {
      "cell_type": "code",
      "metadata": {
        "colab": {
          "base_uri": "https://localhost:8080/"
        },
        "id": "-v8TaDS6Ielu",
        "outputId": "f5994614-4305-4910-af06-a0dd5c22d5be"
      },
      "source": [
        "sentences[0]"
      ],
      "execution_count": null,
      "outputs": [
        {
          "output_type": "execute_result",
          "data": {
            "text/plain": [
              "['three', 'visions', 'india', '.']"
            ]
          },
          "metadata": {
            "tags": []
          },
          "execution_count": 23
        }
      ]
    },
    {
      "cell_type": "code",
      "metadata": {
        "id": "QrMihDZ6JhDK"
      },
      "source": [
        "model = Word2Vec(sentences, min_count=1)\n",
        "\n",
        "\n",
        "words = model.wv.vocab\n",
        "\n"
      ],
      "execution_count": null,
      "outputs": []
    },
    {
      "cell_type": "code",
      "metadata": {
        "colab": {
          "base_uri": "https://localhost:8080/",
          "height": 162
        },
        "id": "zYh5DxaqKjyl",
        "outputId": "9b27f2a4-f0c4-4190-9872-4325076eec90"
      },
      "source": [
        ""
      ],
      "execution_count": null,
      "outputs": [
        {
          "output_type": "error",
          "ename": "AttributeError",
          "evalue": "ignored",
          "traceback": [
            "\u001b[0;31m---------------------------------------------------------------------------\u001b[0m",
            "\u001b[0;31mAttributeError\u001b[0m                            Traceback (most recent call last)",
            "\u001b[0;32m<ipython-input-38-b8591eb44077>\u001b[0m in \u001b[0;36m<module>\u001b[0;34m()\u001b[0m\n\u001b[0;32m----> 1\u001b[0;31m \u001b[0mmodel\u001b[0m\u001b[0;34m.\u001b[0m\u001b[0mshape\u001b[0m\u001b[0;34m\u001b[0m\u001b[0;34m\u001b[0m\u001b[0m\n\u001b[0m",
            "\u001b[0;31mAttributeError\u001b[0m: 'Word2Vec' object has no attribute 'shape'"
          ]
        }
      ]
    },
    {
      "cell_type": "code",
      "metadata": {
        "colab": {
          "base_uri": "https://localhost:8080/"
        },
        "id": "7f2sgqXPKls7",
        "outputId": "fa83be3a-783e-4356-bd7b-be8a66c52446"
      },
      "source": [
        "words"
      ],
      "execution_count": null,
      "outputs": [
        {
          "output_type": "execute_result",
          "data": {
            "text/plain": [
              "{',': <gensim.models.keyedvectors.Vocab at 0x7f9b4e52f8d0>,\n",
              " '.': <gensim.models.keyedvectors.Vocab at 0x7f9b5102a810>,\n",
              " '?': <gensim.models.keyedvectors.Vocab at 0x7f9b4e4bd890>,\n",
              " 'achievements': <gensim.models.keyedvectors.Vocab at 0x7f9b4e4bd7d0>,\n",
              " 'alexander': <gensim.models.keyedvectors.Vocab at 0x7f9b521ee5d0>,\n",
              " 'also': <gensim.models.keyedvectors.Vocab at 0x7f9b5100b290>,\n",
              " 'among': <gensim.models.keyedvectors.Vocab at 0x7f9b4e4bdbd0>,\n",
              " 'anyone': <gensim.models.keyedvectors.Vocab at 0x7f9b4e4bd910>,\n",
              " 'areas': <gensim.models.keyedvectors.Vocab at 0x7f9b4e4bda50>,\n",
              " 'believe': <gensim.models.keyedvectors.Vocab at 0x7f9b4e4bd350>,\n",
              " 'brahm': <gensim.models.keyedvectors.Vocab at 0x7f9b4e5bbad0>,\n",
              " 'british': <gensim.models.keyedvectors.Vocab at 0x7f9b4e4bd3d0>,\n",
              " 'build': <gensim.models.keyedvectors.Vocab at 0x7f9b4e4bd850>,\n",
              " 'came': <gensim.models.keyedvectors.Vocab at 0x7f9b4e4bd690>,\n",
              " 'captured': <gensim.models.keyedvectors.Vocab at 0x7f9b51f65c10>,\n",
              " 'career': <gensim.models.keyedvectors.Vocab at 0x7f9b5101af90>,\n",
              " 'closely': <gensim.models.keyedvectors.Vocab at 0x7f9b4e5bbb10>,\n",
              " 'come': <gensim.models.keyedvectors.Vocab at 0x7f9b4e52f510>,\n",
              " 'conquered': <gensim.models.keyedvectors.Vocab at 0x7f9b51f65210>,\n",
              " 'consider': <gensim.models.keyedvectors.Vocab at 0x7f9b4e5bba50>,\n",
              " 'culture': <gensim.models.keyedvectors.Vocab at 0x7f9b4e4bde50>,\n",
              " 'dept': <gensim.models.keyedvectors.Vocab at 0x7f9b5100ba90>,\n",
              " 'developed': <gensim.models.keyedvectors.Vocab at 0x7f9b4e4bdd50>,\n",
              " 'developing': <gensim.models.keyedvectors.Vocab at 0x7f9b4e4bd6d0>,\n",
              " 'development': <gensim.models.keyedvectors.Vocab at 0x7f9b4e4bd110>,\n",
              " 'dhawan': <gensim.models.keyedvectors.Vocab at 0x7f9b5100bc90>,\n",
              " 'done': <gensim.models.keyedvectors.Vocab at 0x7f9b4e4bddd0>,\n",
              " 'dr.': <gensim.models.keyedvectors.Vocab at 0x7f9b5100bf50>,\n",
              " 'dutch': <gensim.models.keyedvectors.Vocab at 0x7f9b4e4bd250>,\n",
              " 'economic': <gensim.models.keyedvectors.Vocab at 0x7f9b5100b410>,\n",
              " 'enforce': <gensim.models.keyedvectors.Vocab at 0x7f9b4e4bdad0>,\n",
              " 'falling': <gensim.models.keyedvectors.Vocab at 0x7f9b4e4bd5d0>,\n",
              " 'father': <gensim.models.keyedvectors.Vocab at 0x7f9b4e5bb910>,\n",
              " 'fifty': <gensim.models.keyedvectors.Vocab at 0x7f9b4e4bd150>,\n",
              " 'first': <gensim.models.keyedvectors.Vocab at 0x7f9b4e4bdb90>,\n",
              " 'fortune': <gensim.models.keyedvectors.Vocab at 0x7f9b5100bf10>,\n",
              " 'four': <gensim.models.keyedvectors.Vocab at 0x7f9b5101af10>,\n",
              " 'free': <gensim.models.keyedvectors.Vocab at 0x7f9b4e4bd050>,\n",
              " 'freedom': <gensim.models.keyedvectors.Vocab at 0x7f9b4e4bde10>,\n",
              " 'french': <gensim.models.keyedvectors.Vocab at 0x7f9b4e4bd710>,\n",
              " 'gdp': <gensim.models.keyedvectors.Vocab at 0x7f9b4e4bd210>,\n",
              " 'globally': <gensim.models.keyedvectors.Vocab at 0x7f9b4e4bd550>,\n",
              " 'go': <gensim.models.keyedvectors.Vocab at 0x7f9b5100b490>,\n",
              " 'good': <gensim.models.keyedvectors.Vocab at 0x7f9b5100b310>,\n",
              " 'got': <gensim.models.keyedvectors.Vocab at 0x7f9b4e4bd090>,\n",
              " 'grabbed': <gensim.models.keyedvectors.Vocab at 0x7f9b4e4bd4d0>,\n",
              " 'great': <gensim.models.keyedvectors.Vocab at 0x7f9b5100bcd0>,\n",
              " 'greeks': <gensim.models.keyedvectors.Vocab at 0x7f9b521ee950>,\n",
              " 'growth': <gensim.models.keyedvectors.Vocab at 0x7f9b4e4bda90>,\n",
              " 'hand-in-hand': <gensim.models.keyedvectors.Vocab at 0x7f9b5100be10>,\n",
              " 'history': <gensim.models.keyedvectors.Vocab at 0x7f9b4e52fb90>,\n",
              " 'incorrect': <gensim.models.keyedvectors.Vocab at 0x7f9b4e560950>,\n",
              " 'independence': <gensim.models.keyedvectors.Vocab at 0x7f9b4e4bd190>,\n",
              " 'india': <gensim.models.keyedvectors.Vocab at 0x7f9b5102ab50>,\n",
              " 'invaded': <gensim.models.keyedvectors.Vocab at 0x7f9b51f65510>,\n",
              " 'lack': <gensim.models.keyedvectors.Vocab at 0x7f9b4e560550>,\n",
              " 'land': <gensim.models.keyedvectors.Vocab at 0x7f9b4e4bded0>,\n",
              " 'lands': <gensim.models.keyedvectors.Vocab at 0x7f9b51f65490>,\n",
              " 'levels': <gensim.models.keyedvectors.Vocab at 0x7f9b4e4bdb50>,\n",
              " 'life': <gensim.models.keyedvectors.Vocab at 0x7f9b4e4bd510>,\n",
              " 'looted': <gensim.models.keyedvectors.Vocab at 0x7f9b4e4bd610>,\n",
              " 'lucky': <gensim.models.keyedvectors.Vocab at 0x7f9b4e5bbe90>,\n",
              " 'material': <gensim.models.keyedvectors.Vocab at 0x7f9b4e5bb1d0>,\n",
              " 'milestones': <gensim.models.keyedvectors.Vocab at 0x7f9b5101a750>,\n",
              " 'military': <gensim.models.keyedvectors.Vocab at 0x7f9b4e560c10>,\n",
              " 'minds': <gensim.models.keyedvectors.Vocab at 0x7f9b51f652d0>,\n",
              " 'moguls': <gensim.models.keyedvectors.Vocab at 0x7f9b521ee050>,\n",
              " 'must': <gensim.models.keyedvectors.Vocab at 0x7f9b4e4bd1d0>,\n",
              " 'nation': <gensim.models.keyedvectors.Vocab at 0x7f9b4e4bd290>,\n",
              " 'nations': <gensim.models.keyedvectors.Vocab at 0x7f9b4e4bd810>,\n",
              " 'nuclear': <gensim.models.keyedvectors.Vocab at 0x7f9b4e5bbd10>,\n",
              " 'nurture': <gensim.models.keyedvectors.Vocab at 0x7f9b4e4bdc50>,\n",
              " 'one': <gensim.models.keyedvectors.Vocab at 0x7f9b4e4bdb10>,\n",
              " 'onwards': <gensim.models.keyedvectors.Vocab at 0x7f9b521ee8d0>,\n",
              " 'opportunity': <gensim.models.keyedvectors.Vocab at 0x7f9b4e5bb990>,\n",
              " 'others.that': <gensim.models.keyedvectors.Vocab at 0x7f9b4e4bd950>,\n",
              " 'people': <gensim.models.keyedvectors.Vocab at 0x7f9b4e52f610>,\n",
              " 'percent': <gensim.models.keyedvectors.Vocab at 0x7f9b4e4bda10>,\n",
              " 'portuguese': <gensim.models.keyedvectors.Vocab at 0x7f9b4e4bdd90>,\n",
              " 'poverty': <gensim.models.keyedvectors.Vocab at 0x7f9b4e4bd2d0>,\n",
              " 'power': <gensim.models.keyedvectors.Vocab at 0x7f9b4e560f10>,\n",
              " 'prakash': <gensim.models.keyedvectors.Vocab at 0x7f9b4e5bbed0>,\n",
              " 'professor': <gensim.models.keyedvectors.Vocab at 0x7f9b5100bc50>,\n",
              " 'protect': <gensim.models.keyedvectors.Vocab at 0x7f9b4e4bd410>,\n",
              " 'rate': <gensim.models.keyedvectors.Vocab at 0x7f9b4e4bdc10>,\n",
              " 'recognised': <gensim.models.keyedvectors.Vocab at 0x7f9b4e4bd0d0>,\n",
              " 'respect': <gensim.models.keyedvectors.Vocab at 0x7f9b4e4bde90>,\n",
              " 'respects': <gensim.models.keyedvectors.Vocab at 0x7f9b4e560850>,\n",
              " 'sarabhai': <gensim.models.keyedvectors.Vocab at 0x7f9b5100b990>,\n",
              " 'satish': <gensim.models.keyedvectors.Vocab at 0x7f9b5100bf90>,\n",
              " 'second': <gensim.models.keyedvectors.Vocab at 0x7f9b4e4bdfd0>,\n",
              " 'see': <gensim.models.keyedvectors.Vocab at 0x7f9b4e4bd310>,\n",
              " 'self-assured': <gensim.models.keyedvectors.Vocab at 0x7f9b4e560d50>,\n",
              " 'self-confidence': <gensim.models.keyedvectors.Vocab at 0x7f9b4e560c90>,\n",
              " 'self-reliant': <gensim.models.keyedvectors.Vocab at 0x7f9b4e560e90>,\n",
              " 'space': <gensim.models.keyedvectors.Vocab at 0x7f9b5100bb90>,\n",
              " 'stand': <gensim.models.keyedvectors.Vocab at 0x7f9b4e560ad0>,\n",
              " 'stands': <gensim.models.keyedvectors.Vocab at 0x7f9b4e560710>,\n",
              " 'started': <gensim.models.keyedvectors.Vocab at 0x7f9b4e4bd650>,\n",
              " 'strength': <gensim.models.keyedvectors.Vocab at 0x7f9b4e5608d0>,\n",
              " 'strong': <gensim.models.keyedvectors.Vocab at 0x7f9b4e560b10>,\n",
              " 'succeeded': <gensim.models.keyedvectors.Vocab at 0x7f9b4e5bb150>,\n",
              " 'terms': <gensim.models.keyedvectors.Vocab at 0x7f9b4e4bdf10>,\n",
              " 'third': <gensim.models.keyedvectors.Vocab at 0x7f9b4e5605d0>,\n",
              " 'three': <gensim.models.keyedvectors.Vocab at 0x7f9b4e5c7310>,\n",
              " 'time': <gensim.models.keyedvectors.Vocab at 0x7f9b4e4bd750>,\n",
              " 'today': <gensim.models.keyedvectors.Vocab at 0x7f9b4e4bdd10>,\n",
              " 'took': <gensim.models.keyedvectors.Vocab at 0x7f9b4e4bd390>,\n",
              " 'top': <gensim.models.keyedvectors.Vocab at 0x7f9b4e4bd790>,\n",
              " 'tried': <gensim.models.keyedvectors.Vocab at 0x7f9b4e4bd490>,\n",
              " 'turks': <gensim.models.keyedvectors.Vocab at 0x7f9b521eea10>,\n",
              " 'unless': <gensim.models.keyedvectors.Vocab at 0x7f9b4e560650>,\n",
              " 'us': <gensim.models.keyedvectors.Vocab at 0x7f9b51f65350>,\n",
              " 'vikram': <gensim.models.keyedvectors.Vocab at 0x7f9b5100b750>,\n",
              " 'vision': <gensim.models.keyedvectors.Vocab at 0x7f9b4e4bdcd0>,\n",
              " 'visions': <gensim.models.keyedvectors.Vocab at 0x7f9b4e5c7d50>,\n",
              " 'war': <gensim.models.keyedvectors.Vocab at 0x7f9b4e4bdf90>,\n",
              " 'way': <gensim.models.keyedvectors.Vocab at 0x7f9b4e4bd990>,\n",
              " 'worked': <gensim.models.keyedvectors.Vocab at 0x7f9b5100b090>,\n",
              " 'world': <gensim.models.keyedvectors.Vocab at 0x7f9b5102a690>,\n",
              " 'years': <gensim.models.keyedvectors.Vocab at 0x7f9b51080490>,\n",
              " 'yet': <gensim.models.keyedvectors.Vocab at 0x7f9b4e4bd9d0>,\n",
              " '’': <gensim.models.keyedvectors.Vocab at 0x7f9b4e4bdf50>}"
            ]
          },
          "metadata": {
            "tags": []
          },
          "execution_count": 31
        }
      ]
    },
    {
      "cell_type": "code",
      "metadata": {
        "colab": {
          "base_uri": "https://localhost:8080/",
          "height": 162
        },
        "id": "8Ff4B37GKnY3",
        "outputId": "28d8bfcf-33a3-42b1-cfe0-e6564fa6dfae"
      },
      "source": [
        ""
      ],
      "execution_count": null,
      "outputs": [
        {
          "output_type": "error",
          "ename": "TypeError",
          "evalue": "ignored",
          "traceback": [
            "\u001b[0;31m---------------------------------------------------------------------------\u001b[0m",
            "\u001b[0;31mTypeError\u001b[0m                                 Traceback (most recent call last)",
            "\u001b[0;32m<ipython-input-36-753dc4abf9ae>\u001b[0m in \u001b[0;36m<module>\u001b[0;34m()\u001b[0m\n\u001b[0;32m----> 1\u001b[0;31m \u001b[0mwords\u001b[0m\u001b[0;34m[\u001b[0m\u001b[0;34m[\u001b[0m\u001b[0;36m0\u001b[0m\u001b[0;34m]\u001b[0m\u001b[0;34m]\u001b[0m\u001b[0;34m\u001b[0m\u001b[0;34m\u001b[0m\u001b[0m\n\u001b[0m",
            "\u001b[0;31mTypeError\u001b[0m: unhashable type: 'list'"
          ]
        }
      ]
    },
    {
      "cell_type": "code",
      "metadata": {
        "id": "PAbMlmklKqyo"
      },
      "source": [
        "vector = model.wv['war']\n"
      ],
      "execution_count": null,
      "outputs": []
    },
    {
      "cell_type": "code",
      "metadata": {
        "colab": {
          "base_uri": "https://localhost:8080/"
        },
        "id": "eddfZOMSMO2y",
        "outputId": "ca54fbf6-ba68-43ec-c9e7-673c939c7ffa"
      },
      "source": [
        "vector"
      ],
      "execution_count": null,
      "outputs": [
        {
          "output_type": "execute_result",
          "data": {
            "text/plain": [
              "array([-4.9379063e-03, -3.8682632e-03, -3.5586783e-03,  2.6170884e-03,\n",
              "        2.0101399e-03,  3.8820370e-03,  3.6526285e-03, -2.2414005e-03,\n",
              "       -3.6509954e-03, -2.0973452e-03,  3.7230670e-03, -2.9759577e-03,\n",
              "        3.4732648e-04,  9.8066987e-04, -2.0727247e-03,  4.7198194e-03,\n",
              "        1.1498528e-03, -4.6576196e-03,  6.6804216e-04, -1.3427343e-05,\n",
              "        4.6041543e-03,  4.6569859e-03, -1.5028837e-03,  2.8617415e-03,\n",
              "       -1.9233739e-03,  1.9842924e-03,  1.4724896e-03,  3.6922691e-03,\n",
              "        6.3141610e-04,  2.3986057e-03,  3.5125779e-03, -2.6452306e-03,\n",
              "        3.1375778e-03, -1.9573709e-03, -3.2963243e-03,  2.1059150e-03,\n",
              "       -2.4846285e-03, -3.7753587e-03, -8.9946185e-04, -2.6107297e-04,\n",
              "        4.1267690e-03,  1.8426628e-03, -1.8748992e-04,  3.0829562e-03,\n",
              "       -3.6289035e-03,  6.2418898e-04,  1.7393703e-03,  1.0353631e-03,\n",
              "       -1.9500442e-03,  4.8151943e-03, -3.0131980e-03,  1.1215452e-03,\n",
              "       -4.7771190e-03,  3.7066163e-03,  3.2160378e-03, -3.8011954e-03,\n",
              "       -3.0160022e-03,  4.7353460e-03, -4.9715806e-03,  4.9970020e-03,\n",
              "        9.5773378e-04,  1.0910826e-04,  9.7554800e-04, -4.5800158e-03,\n",
              "        1.4465998e-03, -1.0919597e-04,  3.5048412e-05, -4.1076620e-03,\n",
              "       -5.9118349e-04, -1.0459634e-03,  2.2382953e-03,  4.2623733e-03,\n",
              "        4.0867776e-03, -4.5785280e-03,  1.3424619e-03,  2.1870898e-03,\n",
              "        4.2655878e-03, -1.1531028e-03, -1.9218833e-03,  2.9408170e-03,\n",
              "       -3.5927843e-03,  3.1073290e-04,  4.1870326e-03,  7.4591290e-04,\n",
              "        3.5989371e-03, -3.0104867e-03, -4.3756142e-03, -4.3766988e-03,\n",
              "       -1.9224777e-03, -1.2680424e-03, -3.7006333e-03,  3.2255014e-03,\n",
              "        1.6361719e-03, -3.1480214e-03, -6.2669313e-04,  4.6087228e-04,\n",
              "       -3.5033326e-03, -4.9018501e-03,  4.5826938e-03, -2.5032344e-03],\n",
              "      dtype=float32)"
            ]
          },
          "metadata": {
            "tags": []
          },
          "execution_count": 40
        }
      ]
    },
    {
      "cell_type": "code",
      "metadata": {
        "id": "0Pj3OepcMQew"
      },
      "source": [
        "vector=model.vector_size"
      ],
      "execution_count": null,
      "outputs": []
    },
    {
      "cell_type": "code",
      "metadata": {
        "colab": {
          "base_uri": "https://localhost:8080/"
        },
        "id": "QIuMDPU2Mbe0",
        "outputId": "77a96f2a-4fd2-452a-e017-85971172cd7b"
      },
      "source": [
        "vector"
      ],
      "execution_count": null,
      "outputs": [
        {
          "output_type": "execute_result",
          "data": {
            "text/plain": [
              "100"
            ]
          },
          "metadata": {
            "tags": []
          },
          "execution_count": 42
        }
      ]
    },
    {
      "cell_type": "code",
      "metadata": {
        "colab": {
          "base_uri": "https://localhost:8080/"
        },
        "id": "lD-Jm2PyMcl8",
        "outputId": "504230b2-f2f3-4fb1-cd03-e1cc737e2605"
      },
      "source": [
        "model.corpus_count"
      ],
      "execution_count": null,
      "outputs": [
        {
          "output_type": "execute_result",
          "data": {
            "text/plain": [
              "31"
            ]
          },
          "metadata": {
            "tags": []
          },
          "execution_count": 43
        }
      ]
    },
    {
      "cell_type": "code",
      "metadata": {
        "id": "cB0UnFxpMg4r"
      },
      "source": [
        "\n",
        "# Most similar words\n",
        "similar = model.wv.most_similar('vikram')"
      ],
      "execution_count": null,
      "outputs": []
    },
    {
      "cell_type": "code",
      "metadata": {
        "colab": {
          "base_uri": "https://localhost:8080/"
        },
        "id": "U1vqEFkAMo3r",
        "outputId": "c62be366-2b4e-48bf-cfa2-06337ba5e177"
      },
      "source": [
        "similar[0][1]\n"
      ],
      "execution_count": null,
      "outputs": [
        {
          "output_type": "execute_result",
          "data": {
            "text/plain": [
              "0.2480323612689972"
            ]
          },
          "metadata": {
            "tags": []
          },
          "execution_count": 52
        }
      ]
    },
    {
      "cell_type": "code",
      "metadata": {
        "colab": {
          "base_uri": "https://localhost:8080/",
          "height": 35
        },
        "id": "MDqOxq_9MqG4",
        "outputId": "e55b2cf8-4d0d-448a-8190-4f896291de89"
      },
      "source": [
        "'vikram'"
      ],
      "execution_count": null,
      "outputs": [
        {
          "output_type": "execute_result",
          "data": {
            "application/vnd.google.colaboratory.intrinsic+json": {
              "type": "string"
            },
            "text/plain": [
              "'vikram'"
            ]
          },
          "metadata": {
            "tags": []
          },
          "execution_count": 53
        }
      ]
    },
    {
      "cell_type": "code",
      "metadata": {
        "colab": {
          "base_uri": "https://localhost:8080/"
        },
        "id": "XDw0RYFIM5-z",
        "outputId": "df838e16-d3d7-4b0c-fec3-79e8838d3c04"
      },
      "source": [
        "similar"
      ],
      "execution_count": null,
      "outputs": [
        {
          "output_type": "execute_result",
          "data": {
            "text/plain": [
              "[('among', 0.2480323612689972),\n",
              " ('professor', 0.22774001955986023),\n",
              " ('consider', 0.20963165163993835),\n",
              " ('levels', 0.16703464090824127),\n",
              " ('rate', 0.1509806215763092),\n",
              " ('yet', 0.15066175162792206),\n",
              " ('fifty', 0.14356684684753418),\n",
              " ('go', 0.13249030709266663),\n",
              " ('areas', 0.1236686259508133),\n",
              " ('self-reliant', 0.12327145040035248)]"
            ]
          },
          "metadata": {
            "tags": []
          },
          "execution_count": 54
        }
      ]
    },
    {
      "cell_type": "code",
      "metadata": {
        "id": "kKbAhw6INGc3"
      },
      "source": [
        "sim_vec=model.wv['among']"
      ],
      "execution_count": null,
      "outputs": []
    },
    {
      "cell_type": "code",
      "metadata": {
        "colab": {
          "base_uri": "https://localhost:8080/"
        },
        "id": "Il1keUl3NNKA",
        "outputId": "150b5ddf-ecdb-4493-bdab-810e4d400315"
      },
      "source": [
        "sim_vec"
      ],
      "execution_count": null,
      "outputs": [
        {
          "output_type": "execute_result",
          "data": {
            "text/plain": [
              "array([ 0.00105149, -0.00421183, -0.00223388, -0.00356353,  0.00093614,\n",
              "        0.00241278, -0.00180857, -0.00452935,  0.00247993, -0.00076561,\n",
              "        0.00440674,  0.00227209,  0.00209382, -0.00170987, -0.00462003,\n",
              "        0.00164458,  0.00469568, -0.00313005,  0.00444931, -0.00281061,\n",
              "       -0.00425313,  0.00454141,  0.00204423,  0.00099217,  0.00160504,\n",
              "       -0.00475995, -0.00368977, -0.00414229,  0.00478156,  0.00339296,\n",
              "        0.00180521, -0.00156718,  0.00277177,  0.00282231, -0.00464117,\n",
              "       -0.00229954, -0.00057677,  0.00118828,  0.00236681, -0.00054554,\n",
              "       -0.00324427, -0.00443938,  0.0017912 , -0.00147165,  0.00129066,\n",
              "       -0.00375276, -0.00198528,  0.00078892,  0.00101056, -0.00250962,\n",
              "        0.00382718, -0.00307051,  0.00443424, -0.00443432,  0.00333071,\n",
              "        0.0040104 ,  0.00013252, -0.00323385, -0.00472882, -0.00282175,\n",
              "       -0.00089723, -0.0036729 , -0.00363786,  0.00285985, -0.00033462,\n",
              "        0.00192088, -0.00429345,  0.00484806,  0.00016551, -0.00117082,\n",
              "        0.00246344, -0.00275225,  0.00440522, -0.001225  , -0.00147563,\n",
              "        0.00354494, -0.0012494 , -0.00165807, -0.00474004,  0.00250808,\n",
              "       -0.00042329,  0.00376358,  0.00494694,  0.00120358, -0.00454929,\n",
              "        0.00326993,  0.00364449, -0.00237862,  0.00213248, -0.00243398,\n",
              "       -0.00171888, -0.00424139,  0.00095357, -0.00151284, -0.00093381,\n",
              "        0.00429758,  0.00131652,  0.00466904, -0.00231464, -0.00304   ],\n",
              "      dtype=float32)"
            ]
          },
          "metadata": {
            "tags": []
          },
          "execution_count": 58
        }
      ]
    },
    {
      "cell_type": "code",
      "metadata": {
        "colab": {
          "base_uri": "https://localhost:8080/"
        },
        "id": "rlZHBXcQNZNj",
        "outputId": "a90caa4c-6095-4a57-f72b-62d2e8fafbf9"
      },
      "source": [
        "sim_vec.shape"
      ],
      "execution_count": null,
      "outputs": [
        {
          "output_type": "execute_result",
          "data": {
            "text/plain": [
              "(100,)"
            ]
          },
          "metadata": {
            "tags": []
          },
          "execution_count": 59
        }
      ]
    },
    {
      "cell_type": "code",
      "metadata": {
        "id": "u8FkyGFcNcJY"
      },
      "source": [
        "a=sim_vec.mean"
      ],
      "execution_count": null,
      "outputs": []
    },
    {
      "cell_type": "code",
      "metadata": {
        "colab": {
          "base_uri": "https://localhost:8080/"
        },
        "id": "FDAIiodnNjJY",
        "outputId": "3600ea5a-0c0b-4af0-b62b-25e5815f398c"
      },
      "source": [
        "a"
      ],
      "execution_count": null,
      "outputs": [
        {
          "output_type": "execute_result",
          "data": {
            "text/plain": [
              "<function ndarray.mean>"
            ]
          },
          "metadata": {
            "tags": []
          },
          "execution_count": 62
        }
      ]
    },
    {
      "cell_type": "code",
      "metadata": {
        "colab": {
          "base_uri": "https://localhost:8080/"
        },
        "id": "AYa-rrsINpfo",
        "outputId": "88728097-7109-4fc7-cc39-e239a094a4b3"
      },
      "source": [
        "sim_vec.swapaxes"
      ],
      "execution_count": null,
      "outputs": [
        {
          "output_type": "execute_result",
          "data": {
            "text/plain": [
              "<function ndarray.swapaxes>"
            ]
          },
          "metadata": {
            "tags": []
          },
          "execution_count": 64
        }
      ]
    },
    {
      "cell_type": "code",
      "metadata": {
        "id": "bQSMa6IeNvq1"
      },
      "source": [
        ""
      ],
      "execution_count": null,
      "outputs": []
    },
    {
      "cell_type": "code",
      "metadata": {
        "id": "r9oj54-SRP1V"
      },
      "source": [
        ""
      ],
      "execution_count": null,
      "outputs": []
    },
    {
      "cell_type": "markdown",
      "metadata": {
        "id": "0DrgCs65RQKo"
      },
      "source": [
        ""
      ]
    },
    {
      "cell_type": "code",
      "metadata": {
        "id": "hMo56itfRQpd"
      },
      "source": [
        ""
      ],
      "execution_count": null,
      "outputs": []
    }
  ]
}