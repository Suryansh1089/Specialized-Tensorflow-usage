{
  "nbformat": 4,
  "nbformat_minor": 0,
  "metadata": {
    "colab": {
      "name": "SimpleBERT.ipynb",
      "provenance": [],
      "collapsed_sections": [],
      "include_colab_link": true
    },
    "kernelspec": {
      "name": "python3",
      "display_name": "Python 3"
    }
  },
  "cells": [
    {
      "cell_type": "markdown",
      "metadata": {
        "id": "view-in-github",
        "colab_type": "text"
      },
      "source": [
        "<a href=\"https://colab.research.google.com/github/Suryansh1089/colabfiles/blob/main/SimpleBERT.ipynb\" target=\"_parent\"><img src=\"https://colab.research.google.com/assets/colab-badge.svg\" alt=\"Open In Colab\"/></a>"
      ]
    },
    {
      "cell_type": "markdown",
      "metadata": {
        "id": "FLXkBcS62n0l"
      },
      "source": [
        "# A Clean and Simple Implementation of BERT 😍"
      ]
    },
    {
      "cell_type": "markdown",
      "metadata": {
        "id": "1RDJJ9qagl6N"
      },
      "source": [
        "## importing the data and installing necessary libraries"
      ]
    },
    {
      "cell_type": "code",
      "metadata": {
        "id": "mcdVUlETt8YA"
      },
      "source": [
        "!pip install tensorflow\n",
        "!pip install tensorflow-hub\n",
        "!pip install sentencepiece"
      ],
      "execution_count": null,
      "outputs": []
    },
    {
      "cell_type": "code",
      "metadata": {
        "id": "kETUeFheuAiO",
        "colab": {
          "base_uri": "https://localhost:8080/",
          "height": 57
        },
        "outputId": "55978cdb-66df-42a6-f77c-765bd5977b91"
      },
      "source": [
        "import tensorflow as tf\n",
        "import tensorflow_hub as hub\n",
        "print(\"TF version: \", tf.__version__)\n",
        "print(\"Hub version: \", hub.__version__)"
      ],
      "execution_count": null,
      "outputs": [
        {
          "output_type": "stream",
          "text": [
            "TF version:  2.3.0\n",
            "Hub version:  0.9.0\n"
          ],
          "name": "stdout"
        }
      ]
    },
    {
      "cell_type": "code",
      "metadata": {
        "id": "ndpR5hAJuWOG",
        "colab": {
          "base_uri": "https://localhost:8080/",
          "height": 77
        },
        "outputId": "1439f225-4639-47cc-e05a-fa54cfc9b3bb"
      },
      "source": [
        "import pandas as pd\n",
        "import numpy as np\n",
        "\n",
        "# For cleaning the text\n",
        "import spacy\n",
        "import nltk\n",
        "from nltk.tokenize import word_tokenize\n",
        "from nltk.corpus import stopwords\n",
        "import regex as re\n",
        "import string\n",
        "\n",
        "# For visualization\n",
        "import matplotlib.pyplot as plt\n",
        "import seaborn as sns\n",
        "pd.set_option('display.max_colwidth', None)\n",
        "\n",
        "# For building our model\n",
        "import tensorflow.keras\n",
        "import sklearn\n",
        "from tensorflow.keras import layers\n",
        "from tensorflow.keras import Model\n",
        "from tensorflow.keras.optimizers import SGD, Adam\n",
        "from tensorflow.keras.callbacks import ModelCheckpoint\n",
        "from tensorflow.keras.layers import Dense, Input, Dropout, GlobalAveragePooling1D"
      ],
      "execution_count": null,
      "outputs": [
        {
          "output_type": "stream",
          "text": [
            "/usr/local/lib/python3.6/dist-packages/statsmodels/tools/_testing.py:19: FutureWarning: pandas.util.testing is deprecated. Use the functions in the public API at pandas.testing instead.\n",
            "  import pandas.util.testing as tm\n"
          ],
          "name": "stderr"
        }
      ]
    },
    {
      "cell_type": "code",
      "metadata": {
        "id": "nm8dQKtJgTdW"
      },
      "source": [
        ""
      ],
      "execution_count": null,
      "outputs": []
    },
    {
      "cell_type": "markdown",
      "metadata": {
        "id": "tfBUeWx2gUB4"
      },
      "source": [
        "## Importing the data"
      ]
    },
    {
      "cell_type": "code",
      "metadata": {
        "id": "YgRwyyO7vFbs",
        "colab": {
          "base_uri": "https://localhost:8080/",
          "height": 37
        },
        "outputId": "ac8f2aa1-6ad1-47b0-dea8-d6086cdf28ef"
      },
      "source": [
        "### all the data you'll need\n",
        "\n",
        "!git clone https://github.com/mitramir55/Kaggle_NLP_competition.git\n",
        "train = pd.read_csv('Kaggle_NLP_competition/train.csv')\n",
        "test = pd.read_csv('Kaggle_NLP_competition/test.csv')\n",
        "sample_sub = pd.read_csv('Kaggle_NLP_competition/sample_submission.csv')\n",
        "test_id = test.id"
      ],
      "execution_count": null,
      "outputs": [
        {
          "output_type": "stream",
          "text": [
            "fatal: destination path 'Kaggle_NLP_competition' already exists and is not an empty directory.\n"
          ],
          "name": "stdout"
        }
      ]
    },
    {
      "cell_type": "markdown",
      "metadata": {
        "id": "Jt8k50x9gQYK"
      },
      "source": [
        "## Analysis"
      ]
    },
    {
      "cell_type": "code",
      "metadata": {
        "id": "9_WgKRl0vZet",
        "colab": {
          "base_uri": "https://localhost:8080/",
          "height": 210
        },
        "outputId": "3583ee62-9457-4e1b-efff-1fcc4730b450"
      },
      "source": [
        "# Detecting null values and records\n",
        "\n",
        "df_concat = pd.concat([train, test], axis = 0).reset_index(drop = True)\n",
        "nulls = pd.DataFrame(np.c_[df_concat.isnull().sum(), (df_concat.isnull().sum()/ len(df_concat))*100],\n",
        "                     columns = ['# of nulls', '% of nulls'],\n",
        "                     index = df_concat.columns)\n",
        "nulls"
      ],
      "execution_count": null,
      "outputs": [
        {
          "output_type": "execute_result",
          "data": {
            "text/html": [
              "<div>\n",
              "<style scoped>\n",
              "    .dataframe tbody tr th:only-of-type {\n",
              "        vertical-align: middle;\n",
              "    }\n",
              "\n",
              "    .dataframe tbody tr th {\n",
              "        vertical-align: top;\n",
              "    }\n",
              "\n",
              "    .dataframe thead th {\n",
              "        text-align: right;\n",
              "    }\n",
              "</style>\n",
              "<table border=\"1\" class=\"dataframe\">\n",
              "  <thead>\n",
              "    <tr style=\"text-align: right;\">\n",
              "      <th></th>\n",
              "      <th># of nulls</th>\n",
              "      <th>% of nulls</th>\n",
              "    </tr>\n",
              "  </thead>\n",
              "  <tbody>\n",
              "    <tr>\n",
              "      <th>id</th>\n",
              "      <td>0.0</td>\n",
              "      <td>0.000000</td>\n",
              "    </tr>\n",
              "    <tr>\n",
              "      <th>keyword</th>\n",
              "      <td>87.0</td>\n",
              "      <td>0.799926</td>\n",
              "    </tr>\n",
              "    <tr>\n",
              "      <th>location</th>\n",
              "      <td>3638.0</td>\n",
              "      <td>33.449798</td>\n",
              "    </tr>\n",
              "    <tr>\n",
              "      <th>text</th>\n",
              "      <td>0.0</td>\n",
              "      <td>0.000000</td>\n",
              "    </tr>\n",
              "    <tr>\n",
              "      <th>target</th>\n",
              "      <td>3263.0</td>\n",
              "      <td>30.001839</td>\n",
              "    </tr>\n",
              "  </tbody>\n",
              "</table>\n",
              "</div>"
            ],
            "text/plain": [
              "          # of nulls  % of nulls\n",
              "id               0.0    0.000000\n",
              "keyword         87.0    0.799926\n",
              "location      3638.0   33.449798\n",
              "text             0.0    0.000000\n",
              "target        3263.0   30.001839"
            ]
          },
          "metadata": {
            "tags": []
          },
          "execution_count": 5
        }
      ]
    },
    {
      "cell_type": "code",
      "metadata": {
        "id": "CYkdXLUOvZcj"
      },
      "source": [
        "for df in [train, test, df_concat]:\n",
        "\n",
        "    df.keyword.fillna('no_keyword', inplace = True)\n",
        "    df.location.fillna('no_location', inplace = True)"
      ],
      "execution_count": null,
      "outputs": []
    },
    {
      "cell_type": "code",
      "metadata": {
        "id": "d62pPW_TvvC7"
      },
      "source": [
        ""
      ],
      "execution_count": null,
      "outputs": []
    },
    {
      "cell_type": "markdown",
      "metadata": {
        "id": "GICL9oQjpG8P"
      },
      "source": [
        "## Vizualizing"
      ]
    },
    {
      "cell_type": "code",
      "metadata": {
        "id": "N9R3bymHvvHt",
        "colab": {
          "base_uri": "https://localhost:8080/",
          "height": 606
        },
        "outputId": "0c903c93-8647-4b98-8826-e09cc43d77df"
      },
      "source": [
        "# top 30 locations in the dataset\n",
        "top_30 = df_concat.groupby(['location']).count().text.sort_values(ascending = False)[:30]\n",
        "\n",
        "# plot the top 30\n",
        "\n",
        "plt.figure(figsize = (6,10))\n",
        "sns.barplot(x = top_30, y = top_30.index);\n",
        "plt.xlabel('number of tweets');\n"
      ],
      "execution_count": null,
      "outputs": [
        {
          "output_type": "display_data",
          "data": {
            "image/png": "[encoded data removed]",
            "text/plain": [
              "<Figure size 432x720 with 1 Axes>"
            ]
          },
          "metadata": {
            "tags": [],
            "needs_background": "light"
          }
        }
      ]
    },
    {
      "cell_type": "code",
      "metadata": {
        "id": "9kScfqVOvvWb"
      },
      "source": [
        ""
      ],
      "execution_count": null,
      "outputs": []
    },
    {
      "cell_type": "markdown",
      "metadata": {
        "id": "Pb1rkVlUv3gl"
      },
      "source": [
        "## **Keyword!**"
      ]
    },
    {
      "cell_type": "code",
      "metadata": {
        "id": "DyyCzgMwvvFn",
        "colab": {
          "base_uri": "https://localhost:8080/",
          "height": 553
        },
        "outputId": "67cdaf07-849d-409a-c00f-a8ea9dcc1b1f"
      },
      "source": [
        "# top 20 keywords in disastrous and non_disastrous tweets\n",
        "# We'll use training set for this \n",
        "\n",
        "count_dis_keywords = train[train.target == 1].groupby(['keyword']).count().sort_values(by = 'target', ascending = False)[:20]\n",
        "count_non_dis_keywords =  train[train.target == 0].groupby(['keyword']).count().sort_values(by = 'target', ascending = False)[:20]\n",
        "\n",
        "sns.set(style=\"white\")\n",
        "fig, ax_ = plt.subplots(1, 2, figsize = (25,10));\n",
        "\n",
        "# left side, the plot for keywords in disastrous tweets\n",
        "\n",
        "sns.barplot(x = count_dis_keywords.target, # count of each keyword\n",
        "            y = count_dis_keywords.index, # index of this df is our keywords\n",
        "            ax = ax_[0],\n",
        "            palette = 'Reds_r', label = 'dis')\n",
        "\n",
        "# right side, the plot for non_disastrous tweets\n",
        "\n",
        "sns.barplot(x = count_non_dis_keywords.target, y = count_non_dis_keywords.index, \n",
        "            ax = ax_[1], palette = 'Greens_d', label = 'non_dis')\n",
        "\n",
        "\n",
        "for ax in [ax_[0], ax_[1]]:\n",
        "    \n",
        "    ax.set_title('Number of tweets per keyword', fontsize = 20) # setting title\n",
        "    \n",
        "    ax.set_ylabel('') \n",
        "    ax.set_xlabel('')\n",
        "\n",
        "    ax.set_yticklabels(labels =ax.get_yticklabels() ,\n",
        "                       fontsize = 15)"
      ],
      "execution_count": null,
      "outputs": [
        {
          "output_type": "display_data",
          "data": {
            "image/png": "[encoded data removed]",
            "text/plain": [
              "<Figure size 1800x720 with 2 Axes>"
            ]
          },
          "metadata": {
            "tags": []
          }
        }
      ]
    },
    {
      "cell_type": "code",
      "metadata": {
        "id": "M6rRQQfdvu9y"
      },
      "source": [
        "for df in [train, test, df_concat]:\n",
        "\n",
        "    df.drop(columns = ['location', 'keyword', 'id'], inplace = True)"
      ],
      "execution_count": null,
      "outputs": []
    },
    {
      "cell_type": "code",
      "metadata": {
        "id": "vq1dUMXkwCyp"
      },
      "source": [
        ""
      ],
      "execution_count": null,
      "outputs": []
    },
    {
      "cell_type": "markdown",
      "metadata": {
        "id": "wHkKgjPD03dC"
      },
      "source": [
        "## **Cleaning the data!**"
      ]
    },
    {
      "cell_type": "code",
      "metadata": {
        "id": "eiSR7KVkvKA0",
        "colab": {
          "base_uri": "https://localhost:8080/",
          "height": 97
        },
        "outputId": "762365a5-9014-4f4e-cc75-d7a9b905fb49"
      },
      "source": [
        "nlp = spacy.load(\"en\")\n",
        "sp = spacy.load('en_core_web_sm')\n",
        "\n",
        "nltk.download('stopwords')\n",
        "nltk.download('punkt')\n",
        "\n",
        "# spacy (362 words)\n",
        "spacy_st = nlp.Defaults.stop_words\n",
        "# nltk(179 words)\n",
        "nltk_st = stopwords.words('english')\n",
        "\n",
        "def clean(tweet, http = True, punc = True, lem = True, stop_w = True):\n",
        "    \n",
        "    if http is True:\n",
        "        tweet = re.sub(\"https?:\\/\\/t.co\\/[A-Za-z0-9]*\", '', tweet)\n",
        "\n",
        "    # stop words\n",
        "    # in here I changed the placement of lower for those of you who want to use\n",
        "    # Cased BERT later on.\n",
        "    if stop_w == 'nltk':\n",
        "        tweet = [word for word in word_tokenize(tweet) if not word.lower() in nltk_st]\n",
        "        tweet = ' '.join(tweet)\n",
        "\n",
        "    elif stop_w == 'spacy':\n",
        "        tweet = [word for word in word_tokenize(tweet) if not word.lower() in spacy_st]\n",
        "        tweet = ' '.join(tweet)\n",
        "\n",
        "    # lemmitizing\n",
        "    if lem == True:\n",
        "        lemmatized = [word.lemma_ for word in sp(tweet)]\n",
        "        tweet = ' '.join(lemmatized)\n",
        "\n",
        "    # punctuation removal\n",
        "    if punc is True:\n",
        "        tweet = tweet.translate(str.maketrans('', '', string.punctuation))\n",
        "        \n",
        "    # removing extra space\n",
        "    tweet = re.sub(\"\\s+\", ' ', tweet)\n",
        "    \n",
        "    return tweet"
      ],
      "execution_count": null,
      "outputs": [
        {
          "output_type": "stream",
          "text": [
            "[nltk_data] Downloading package stopwords to /root/nltk_data...\n",
            "[nltk_data]   Unzipping corpora/stopwords.zip.\n",
            "[nltk_data] Downloading package punkt to /root/nltk_data...\n",
            "[nltk_data]   Unzipping tokenizers/punkt.zip.\n"
          ],
          "name": "stdout"
        }
      ]
    },
    {
      "cell_type": "code",
      "metadata": {
        "id": "EgY_WGGZZB4P"
      },
      "source": [
        ""
      ],
      "execution_count": null,
      "outputs": []
    },
    {
      "cell_type": "code",
      "metadata": {
        "id": "u4RIcbaZXEbm"
      },
      "source": [
        ""
      ],
      "execution_count": null,
      "outputs": []
    },
    {
      "cell_type": "code",
      "metadata": {
        "id": "tODBpgIXvsK7"
      },
      "source": [
        "df_concat['cleaned_text'] = df_concat.text.apply(lambda x: clean(x, lem = False, stop_w = 'nltk', http = True, punc = True))"
      ],
      "execution_count": null,
      "outputs": []
    },
    {
      "cell_type": "code",
      "metadata": {
        "id": "s-gVWwJz1yyK"
      },
      "source": [
        "cleaned_train = df_concat[:train.shape[0]]\n",
        "cleaned_test = df_concat[train.shape[0]:]"
      ],
      "execution_count": null,
      "outputs": []
    },
    {
      "cell_type": "code",
      "metadata": {
        "id": "3JKAnnD8z_Z_",
        "colab": {
          "base_uri": "https://localhost:8080/",
          "height": 114
        },
        "outputId": "8a091130-f3e7-49d2-b492-d6db85aef982"
      },
      "source": [
        "cleaned_train.head(2)"
      ],
      "execution_count": null,
      "outputs": [
        {
          "output_type": "execute_result",
          "data": {
            "text/html": [
              "<div>\n",
              "<style scoped>\n",
              "    .dataframe tbody tr th:only-of-type {\n",
              "        vertical-align: middle;\n",
              "    }\n",
              "\n",
              "    .dataframe tbody tr th {\n",
              "        vertical-align: top;\n",
              "    }\n",
              "\n",
              "    .dataframe thead th {\n",
              "        text-align: right;\n",
              "    }\n",
              "</style>\n",
              "<table border=\"1\" class=\"dataframe\">\n",
              "  <thead>\n",
              "    <tr style=\"text-align: right;\">\n",
              "      <th></th>\n",
              "      <th>text</th>\n",
              "      <th>target</th>\n",
              "      <th>cleaned_text</th>\n",
              "    </tr>\n",
              "  </thead>\n",
              "  <tbody>\n",
              "    <tr>\n",
              "      <th>0</th>\n",
              "      <td>Our Deeds are the Reason of this #earthquake May ALLAH Forgive us all</td>\n",
              "      <td>1.0</td>\n",
              "      <td>Deeds Reason earthquake May ALLAH Forgive us</td>\n",
              "    </tr>\n",
              "    <tr>\n",
              "      <th>1</th>\n",
              "      <td>Forest fire near La Ronge Sask. Canada</td>\n",
              "      <td>1.0</td>\n",
              "      <td>Forest fire near La Ronge Sask Canada</td>\n",
              "    </tr>\n",
              "  </tbody>\n",
              "</table>\n",
              "</div>"
            ],
            "text/plain": [
              "                                                                    text  ...                                  cleaned_text\n",
              "0  Our Deeds are the Reason of this #earthquake May ALLAH Forgive us all  ...  Deeds Reason earthquake May ALLAH Forgive us\n",
              "1                                 Forest fire near La Ronge Sask. Canada  ...         Forest fire near La Ronge Sask Canada\n",
              "\n",
              "[2 rows x 3 columns]"
            ]
          },
          "metadata": {
            "tags": []
          },
          "execution_count": 15
        }
      ]
    },
    {
      "cell_type": "markdown",
      "metadata": {
        "id": "-Bs8ijwc0AVj"
      },
      "source": [
        "# **BERT!**\n",
        "Bidirectional Encoder Representations from Transformers"
      ]
    },
    {
      "cell_type": "code",
      "metadata": {
        "id": "T-eiM0Lgvs1U"
      },
      "source": [
        "# Bert Tokenizer for all of them\n",
        "\n",
        "!wget --quiet https://raw.githubusercontent.com/tensorflow/models/master/official/nlp/bert/tokenization.py\n",
        "import tokenization\n",
        "FullTokenizer = tokenization.FullTokenizer\n"
      ],
      "execution_count": null,
      "outputs": []
    },
    {
      "cell_type": "code",
      "metadata": {
        "id": "vV64jxxkE_Sq"
      },
      "source": [
        ""
      ],
      "execution_count": null,
      "outputs": []
    },
    {
      "cell_type": "code",
      "metadata": {
        "id": "zwlBnDxTvs5C",
        "colab": {
          "base_uri": "https://localhost:8080/",
          "height": 177
        },
        "outputId": "f635a298-e5da-475d-feb0-394cc6d0d9b6"
      },
      "source": [
        "ans = input(\"Which Bert should I use? \\n a. Base uncased \\n b. Large uncased \\n c. Basic cased \\n d. Large cased \\n\")\n",
        "\n",
        "if ans is 'a':\n",
        "    BERT_MODEL_HUB = 'https://tfhub.dev/tensorflow/bert_en_uncased_L-12_H-768_A-12/2'\n",
        "    disc = 'Base_uncased'\n",
        "elif ans is 'b':\n",
        "    BERT_MODEL_HUB = 'https://tfhub.dev/tensorflow/bert_en_uncased_L-24_H-1024_A-16/2' \n",
        "    disc = 'Large_uncased'\n",
        "elif ans is 'c':\n",
        "    BERT_MODEL_HUB = 'https://tfhub.dev/tensorflow/bert_en_cased_L-12_H-768_A-12/2'\n",
        "    disc = 'Base_cased'\n",
        "elif ans is 'd':\n",
        "    BERT_MODEL_HUB = 'https://tfhub.dev/tensorflow/bert_en_cased_L-24_H-1024_A-16/2'\n",
        "    disc = 'Large_cased'\n",
        "\n",
        "bert_layer = hub.KerasLayer(BERT_MODEL_HUB, trainable=True)\n",
        "print('Bert layer is ready to use!')\n",
        "\n",
        "\n",
        "\n",
        "if ans =='a' or ans =='b':\n",
        "    to_lower_case = bert_layer.resolved_object.do_lower_case.numpy()\n",
        "    vocabulary_file = bert_layer.resolved_object.vocab_file.asset_path.numpy()\n",
        "\n",
        "    tokenizer = FullTokenizer(vocabulary_file, to_lower_case)\n",
        "    \n",
        "\n",
        "    \n",
        "elif ans =='c' or ans =='d':\n",
        "    \n",
        "    vocabulary_file = bert_layer.resolved_object.vocab_file.asset_path.numpy()\n",
        "    \n",
        "    tokenizer = FullTokenizer(vocabulary_file, do_lower_case=False)\n",
        "\n",
        "\n",
        "print('Bert Tokenizer is ready!!!')\n"
      ],
      "execution_count": null,
      "outputs": [
        {
          "output_type": "stream",
          "text": [
            "Which Bert should I use? \n",
            " a. Base uncased \n",
            " b. Large uncased \n",
            " c. Basic cased \n",
            " d. Large cased \n",
            "a\n",
            "Bert layer is ready to use!\n",
            "Bert Tokenizer is ready!!!\n"
          ],
          "name": "stdout"
        }
      ]
    },
    {
      "cell_type": "code",
      "metadata": {
        "id": "hu9SUbVELpdb",
        "colab": {
          "base_uri": "https://localhost:8080/",
          "height": 57
        },
        "outputId": "014f4cfc-7732-4777-c639-4e6c3d202554"
      },
      "source": [
        "# put your own sentence here, try words like openminded, undercover, etc., and see what you get\n",
        "sentence = 'openminded'\n",
        "print(\"Tokenized version of '{}' is : \\n {}\".format(sentence, tokenizer.tokenize(sentence)))"
      ],
      "execution_count": null,
      "outputs": [
        {
          "output_type": "stream",
          "text": [
            "Tokenized version of 'openminded' is : \n",
            " ['open', '##mind', '##ed']\n"
          ],
          "name": "stdout"
        }
      ]
    },
    {
      "cell_type": "code",
      "metadata": {
        "id": "AcQjZPDYF11R"
      },
      "source": [
        ""
      ],
      "execution_count": null,
      "outputs": []
    },
    {
      "cell_type": "code",
      "metadata": {
        "id": "eSfHLtivvsxm",
        "colab": {
          "base_uri": "https://localhost:8080/",
          "height": 152
        },
        "outputId": "b63d9385-ef24-4f0b-8c76-6ede2cc5ec65"
      },
      "source": [
        "def tokenize_tweets(text_):\n",
        "    return tokenizer.convert_tokens_to_ids(['[CLS]'] + tokenizer.tokenize(text_) + ['[SEP]'])\n",
        "\n",
        "\n",
        "df_concat['tokenized_tweets'] = df_concat.cleaned_text.apply(lambda x: tokenize_tweets(x))\n",
        "df_concat.head(2)"
      ],
      "execution_count": null,
      "outputs": [
        {
          "output_type": "execute_result",
          "data": {
            "text/html": [
              "<div>\n",
              "<style scoped>\n",
              "    .dataframe tbody tr th:only-of-type {\n",
              "        vertical-align: middle;\n",
              "    }\n",
              "\n",
              "    .dataframe tbody tr th {\n",
              "        vertical-align: top;\n",
              "    }\n",
              "\n",
              "    .dataframe thead th {\n",
              "        text-align: right;\n",
              "    }\n",
              "</style>\n",
              "<table border=\"1\" class=\"dataframe\">\n",
              "  <thead>\n",
              "    <tr style=\"text-align: right;\">\n",
              "      <th></th>\n",
              "      <th>text</th>\n",
              "      <th>target</th>\n",
              "      <th>cleaned_text</th>\n",
              "      <th>tokenized_tweets</th>\n",
              "    </tr>\n",
              "  </thead>\n",
              "  <tbody>\n",
              "    <tr>\n",
              "      <th>0</th>\n",
              "      <td>Our Deeds are the Reason of this #earthquake May ALLAH Forgive us all</td>\n",
              "      <td>1.0</td>\n",
              "      <td>Deeds Reason earthquake May ALLAH Forgive us</td>\n",
              "      <td>[101, 15616, 3114, 8372, 2089, 16455, 9641, 2149, 102]</td>\n",
              "    </tr>\n",
              "    <tr>\n",
              "      <th>1</th>\n",
              "      <td>Forest fire near La Ronge Sask. Canada</td>\n",
              "      <td>1.0</td>\n",
              "      <td>Forest fire near La Ronge Sask Canada</td>\n",
              "      <td>[101, 3224, 2543, 2379, 2474, 6902, 3351, 21871, 2243, 2710, 102]</td>\n",
              "    </tr>\n",
              "  </tbody>\n",
              "</table>\n",
              "</div>"
            ],
            "text/plain": [
              "                                                                    text  ...                                                   tokenized_tweets\n",
              "0  Our Deeds are the Reason of this #earthquake May ALLAH Forgive us all  ...             [101, 15616, 3114, 8372, 2089, 16455, 9641, 2149, 102]\n",
              "1                                 Forest fire near La Ronge Sask. Canada  ...  [101, 3224, 2543, 2379, 2474, 6902, 3351, 21871, 2243, 2710, 102]\n",
              "\n",
              "[2 rows x 4 columns]"
            ]
          },
          "metadata": {
            "tags": []
          },
          "execution_count": 35
        }
      ]
    },
    {
      "cell_type": "code",
      "metadata": {
        "id": "GkG6ajC2HjTU"
      },
      "source": [
        ""
      ],
      "execution_count": null,
      "outputs": []
    },
    {
      "cell_type": "code",
      "metadata": {
        "id": "yrVWM97m9dTY",
        "colab": {
          "base_uri": "https://localhost:8080/",
          "height": 210
        },
        "outputId": "f8683d44-9999-466a-f10f-f1bc82d700c7"
      },
      "source": [
        "# what is the maximum length of our tokenized text?\n",
        "\n",
        "max_len = len(max(df_concat.tokenized_tweets, key = len))\n",
        "\n",
        "\n",
        "print('The maximum length of each sequence besed on tokenized tweets is:', max_len)\n",
        "\n",
        "df_concat['padded_tweets'] = df_concat.tokenized_tweets.apply(lambda x: x + [0] * (max_len - len(x)))\n",
        "df_concat.head(2)"
      ],
      "execution_count": null,
      "outputs": [
        {
          "output_type": "stream",
          "text": [
            "The maximum length of each sequence besed on tokenized tweets is: 53\n"
          ],
          "name": "stdout"
        },
        {
          "output_type": "execute_result",
          "data": {
            "text/html": [
              "<div>\n",
              "<style scoped>\n",
              "    .dataframe tbody tr th:only-of-type {\n",
              "        vertical-align: middle;\n",
              "    }\n",
              "\n",
              "    .dataframe tbody tr th {\n",
              "        vertical-align: top;\n",
              "    }\n",
              "\n",
              "    .dataframe thead th {\n",
              "        text-align: right;\n",
              "    }\n",
              "</style>\n",
              "<table border=\"1\" class=\"dataframe\">\n",
              "  <thead>\n",
              "    <tr style=\"text-align: right;\">\n",
              "      <th></th>\n",
              "      <th>text</th>\n",
              "      <th>target</th>\n",
              "      <th>cleaned_text</th>\n",
              "      <th>tokenized_tweets</th>\n",
              "      <th>padded_tweets</th>\n",
              "    </tr>\n",
              "  </thead>\n",
              "  <tbody>\n",
              "    <tr>\n",
              "      <th>0</th>\n",
              "      <td>Our Deeds are the Reason of this #earthquake May ALLAH Forgive us all</td>\n",
              "      <td>1.0</td>\n",
              "      <td>Deeds Reason earthquake May ALLAH Forgive us</td>\n",
              "      <td>[101, 15616, 3114, 8372, 2089, 16455, 9641, 2149, 102]</td>\n",
              "      <td>[101, 15616, 3114, 8372, 2089, 16455, 9641, 2149, 102, 0, 0, 0, 0, 0, 0, 0, 0, 0, 0, 0, 0, 0, 0, 0, 0, 0, 0, 0, 0, 0, 0, 0, 0, 0, 0, 0, 0, 0, 0, 0, 0, 0, 0, 0, 0, 0, 0, 0, 0, 0, 0, 0, 0]</td>\n",
              "    </tr>\n",
              "    <tr>\n",
              "      <th>1</th>\n",
              "      <td>Forest fire near La Ronge Sask. Canada</td>\n",
              "      <td>1.0</td>\n",
              "      <td>Forest fire near La Ronge Sask Canada</td>\n",
              "      <td>[101, 3224, 2543, 2379, 2474, 6902, 3351, 21871, 2243, 2710, 102]</td>\n",
              "      <td>[101, 3224, 2543, 2379, 2474, 6902, 3351, 21871, 2243, 2710, 102, 0, 0, 0, 0, 0, 0, 0, 0, 0, 0, 0, 0, 0, 0, 0, 0, 0, 0, 0, 0, 0, 0, 0, 0, 0, 0, 0, 0, 0, 0, 0, 0, 0, 0, 0, 0, 0, 0, 0, 0, 0, 0]</td>\n",
              "    </tr>\n",
              "  </tbody>\n",
              "</table>\n",
              "</div>"
            ],
            "text/plain": [
              "                                                                    text  ...                                                                                                                                                                                    padded_tweets\n",
              "0  Our Deeds are the Reason of this #earthquake May ALLAH Forgive us all  ...       [101, 15616, 3114, 8372, 2089, 16455, 9641, 2149, 102, 0, 0, 0, 0, 0, 0, 0, 0, 0, 0, 0, 0, 0, 0, 0, 0, 0, 0, 0, 0, 0, 0, 0, 0, 0, 0, 0, 0, 0, 0, 0, 0, 0, 0, 0, 0, 0, 0, 0, 0, 0, 0, 0, 0]\n",
              "1                                 Forest fire near La Ronge Sask. Canada  ...  [101, 3224, 2543, 2379, 2474, 6902, 3351, 21871, 2243, 2710, 102, 0, 0, 0, 0, 0, 0, 0, 0, 0, 0, 0, 0, 0, 0, 0, 0, 0, 0, 0, 0, 0, 0, 0, 0, 0, 0, 0, 0, 0, 0, 0, 0, 0, 0, 0, 0, 0, 0, 0, 0, 0, 0]\n",
              "\n",
              "[2 rows x 5 columns]"
            ]
          },
          "metadata": {
            "tags": []
          },
          "execution_count": 36
        }
      ]
    },
    {
      "cell_type": "markdown",
      "metadata": {
        "id": "l-QiVE_71jhl"
      },
      "source": [
        "## **The BERT Model**"
      ]
    },
    {
      "cell_type": "code",
      "metadata": {
        "id": "9-9ErgKL1ilQ"
      },
      "source": [
        "class TweetClassifier:\n",
        "    \n",
        "    def __init__(self, tokenizer, bert_layer, max_len, lr = 0.0001,\n",
        "                 epochs = 15, batch_size = 32,\n",
        "                 activation = 'sigmoid', optimizer = 'SGD',\n",
        "                 beta_1=0.9, beta_2=0.999, epsilon=1e-07,\n",
        "                 metrics = 'accuracy', loss = 'binary_crossentropy'):\n",
        "        \n",
        "        self.lr = lr\n",
        "        self.epochs = epochs\n",
        "        self.max_len = max_len\n",
        "        self.batch_size = batch_size\n",
        "        self.tokenizer = tokenizer\n",
        "        self.bert_layer = bert_layer\n",
        "        \n",
        "\n",
        "        self.activation = activation\n",
        "        self.optimizer = optimizer\n",
        "        \n",
        "        self.beta_1 = beta_1\n",
        "        self.beta_2 = beta_2\n",
        "        self.epsilon =epsilon\n",
        "        \n",
        "        self.metrics = metrics\n",
        "        self.loss = loss\n",
        "\n",
        "        \n",
        "    def encode(self, texts):\n",
        "        \n",
        "        all_tokens = []\n",
        "        masks = []\n",
        "        segments = []\n",
        "        \n",
        "        for text in texts:\n",
        "            \n",
        "            tokenized = self.tokenizer.convert_tokens_to_ids(['[CLS]'] + self.tokenizer.tokenize(text) + ['[SEP]'])\n",
        "            \n",
        "            len_zeros = self.max_len - len(tokenized)\n",
        "            \n",
        "            \n",
        "            padded = tokenized + [0] * len_zeros\n",
        "            mask = [1] * len(tokenized) + [0] * len_zeros\n",
        "            segment = [0] * self.max_len\n",
        "            \n",
        "            all_tokens.append(padded)\n",
        "            masks.append(mask)\n",
        "            segments.append(segment)\n",
        "        \n",
        "        return np.array(all_tokens), np.array(masks), np.array(segments)\n",
        "\n",
        "\n",
        "    def make_model(self):\n",
        "        \n",
        "        # Shaping the inputs to our model\n",
        "        \n",
        "        input_ids = Input(shape = (self.max_len, ), dtype = tf.int32, name = 'input_ids')\n",
        "        \n",
        "        input_mask = Input(shape = (self.max_len, ), dtype = tf.int32, name = 'input_mask')\n",
        "        \n",
        "        segment_ids = Input(shape = (self.max_len, ), dtype = tf.int32,  name = 'segment_ids')\n",
        "\n",
        "        \n",
        "        pooled_output, sequence_output = bert_layer([input_ids, input_mask, segment_ids] )\n",
        "\n",
        "\n",
        "\n",
        "        clf_output = sequence_output[:, 0, :]\n",
        "        \n",
        "        out = tf.keras.layers.Dense(1, activation = self.activation)(clf_output)\n",
        "        \n",
        "        \n",
        "        model = Model(inputs = [input_ids, input_mask, segment_ids], outputs = out)\n",
        "        \n",
        "        # define the optimizer\n",
        "\n",
        "        if self.optimizer is 'SGD':\n",
        "            optimizer = SGD(learning_rate = self.lr)\n",
        "\n",
        "        elif self.optimizer is 'Adam': \n",
        "            optimizer = Adam(learning_rate = self.lr, beta_1=self.beta_1, beta_2=self.beta_2, epsilon=self.epsilon)\n",
        "\n",
        "        model.compile(loss = self.loss, optimizer = self.optimizer, metrics = [self.metrics])\n",
        "        \n",
        "        print('Model is compiled with {} optimizer'.format(self.optimizer))\n",
        "        \n",
        "        return model\n",
        "    \n",
        "    \n",
        "    \n",
        "    \n",
        "    def train(self, x):    \n",
        "        \n",
        "        checkpoint = ModelCheckpoint('model.h5', monitor='val_loss',\n",
        "                                     save_best_only=True)\n",
        "            \n",
        "        \n",
        "        model = self.make_model()\n",
        "        \n",
        "        X = self.encode(x['cleaned_text'])\n",
        "        Y = x['target']\n",
        "        \n",
        "        model.fit(X, Y, shuffle = True, validation_split = 0.2, \n",
        "                  batch_size=self.batch_size, epochs = self.epochs,\n",
        "                  callbacks=[checkpoint])\n",
        "                \n",
        "        print('Model is fit!')\n",
        "        \n",
        "            \n",
        "    def predict(self, x):\n",
        "        \n",
        "        X_test_encoded = self.encode(x['cleaned_text'])\n",
        "        best_model = tf.keras.models.load_model('model.h5',custom_objects={'KerasLayer':hub.KerasLayer})\n",
        "        y_pred = best_model.predict(X_test_encoded)\n",
        "        \n",
        "        \n",
        "        return y_pred\n"
      ],
      "execution_count": null,
      "outputs": []
    },
    {
      "cell_type": "code",
      "metadata": {
        "id": "O9JHpnMR1-Hr"
      },
      "source": [
        ""
      ],
      "execution_count": null,
      "outputs": []
    },
    {
      "cell_type": "code",
      "metadata": {
        "id": "d7jyLXYU19bo"
      },
      "source": [
        "classifier = TweetClassifier(tokenizer = tokenizer, bert_layer = bert_layer,\n",
        "                              max_len = max_len, lr = 0.0001,\n",
        "                              epochs = 3,  activation = 'sigmoid',\n",
        "                              batch_size = 32,optimizer = 'SGD',\n",
        "                              beta_1=0.9, beta_2=0.999, epsilon=1e-07)"
      ],
      "execution_count": null,
      "outputs": []
    },
    {
      "cell_type": "code",
      "metadata": {
        "id": "1xrLecbU1pjC",
        "colab": {
          "base_uri": "https://localhost:8080/",
          "height": 183
        },
        "outputId": "c878a4b5-d02f-4dcd-cc24-1c471d14b8a2"
      },
      "source": [
        "classifier.train(cleaned_train)"
      ],
      "execution_count": null,
      "outputs": [
        {
          "output_type": "stream",
          "text": [
            "Model is compiled with SGD optimizer\n",
            "Epoch 1/3\n",
            "191/191 [==============================] - 135s 705ms/step - loss: 0.3769 - accuracy: 0.8440 - val_loss: 0.4024 - val_accuracy: 0.8221\n",
            "Epoch 2/3\n",
            "191/191 [==============================] - 133s 694ms/step - loss: 0.3263 - accuracy: 0.8726 - val_loss: 0.6935 - val_accuracy: 0.7498\n",
            "Epoch 3/3\n",
            "191/191 [==============================] - 133s 694ms/step - loss: 0.2961 - accuracy: 0.8862 - val_loss: 0.4354 - val_accuracy: 0.8240\n",
            "Model is fit!\n"
          ],
          "name": "stdout"
        }
      ]
    },
    {
      "cell_type": "code",
      "metadata": {
        "id": "eSWkfWt52ABp"
      },
      "source": [
        ""
      ],
      "execution_count": null,
      "outputs": []
    },
    {
      "cell_type": "code",
      "metadata": {
        "id": "Ip2km7Q7XTcg"
      },
      "source": [
        ""
      ],
      "execution_count": null,
      "outputs": []
    },
    {
      "cell_type": "code",
      "metadata": {
        "id": "gQ_x1DHqVOK0"
      },
      "source": [
        "# Optional\n",
        "# Explore BERT's dictionary file\n",
        "with open(vocabulary_file) as f:\n",
        "    dic = f.readlines()\n",
        "pd.Series(dic)[pd.Series(dic).str.contains('cru')]\n",
        "#custom_objects={'KerasLayer':hub.KerasLayer}\n",
        "\n",
        "# Testing your predictions:\n",
        "\n",
        "perfect_submission = pd.read_csv('Kaggle_NLP_competition/perfect_submission.csv')\n",
        "\n",
        "y_pred = np.round(classifier.predict(test_cleaned))\n",
        "print('The score of prediction: ', sklearn.metrics.f1_score(perfection.target, y_pred, average = 'micro'))"
      ],
      "execution_count": null,
      "outputs": []
    }
  ]
}